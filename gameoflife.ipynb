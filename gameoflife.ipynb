{
  "nbformat": 4,
  "nbformat_minor": 0,
  "metadata": {
    "colab": {
      "provenance": []
    },
    "kernelspec": {
      "name": "python3",
      "display_name": "Python 3"
    },
    "language_info": {
      "name": "python"
    }
  },
  "cells": [
    {
      "cell_type": "code",
      "execution_count": null,
      "metadata": {
        "colab": {
          "base_uri": "https://localhost:8080/",
          "height": 616
        },
        "id": "L2sNzuw6FDhy",
        "outputId": "241f29d9-23d2-4cf5-8290-aca19fe7d646"
      },
      "outputs": [
        {
          "output_type": "stream",
          "name": "stdout",
          "text": [
            "Generation 10\n",
            "Generation 20\n",
            "Generation 30\n",
            "Generation 40\n",
            "Generation 50\n",
            "Generation 60\n",
            "Generation 70\n",
            "Generation 80\n",
            "Generation 90\n",
            "Generation 100\n",
            "Generation 110\n",
            "Generation 120\n",
            "Generation 130\n",
            "Generation 140\n",
            "Generation 150\n",
            "Generation 160\n",
            "Generation 170\n",
            "Generation 180\n",
            "Generation 190\n",
            "Generation 200\n"
          ]
        },
        {
          "output_type": "display_data",
          "data": {
            "image/png": "[encoded data removed]",
            "text/plain": [
              "<Figure size 432x288 with 2 Axes>"
            ]
          },
          "metadata": {
            "needs_background": "light"
          }
        }
      ],
      "source": [
        "import numpy as np\n",
        "import pylab as pl\n",
        "import random\n",
        "\n",
        "class GoL:\n",
        "\n",
        "   def __init__(self, N=100, T=200, WF=5):\n",
        "      self.N = N\n",
        "      self.old_grid = np.zeros(N*N, dtype='i').reshape(N,N)\n",
        "      self.new_grid = np.zeros(N*N, dtype='i').reshape(N,N)\n",
        "      self.T = T # number of generations\n",
        "      self.WF = WF # write frequency = how often to save generations\n",
        "\n",
        "      # Initialization of random grid\n",
        "      for i in range(0, self.N):\n",
        "         for j in range(0, self.N):\n",
        "            if(random.randint(0, 100) < 15):\n",
        "               self.old_grid[i][j] = 1\n",
        "            else:\n",
        "               self.old_grid[i][j] = 0\n",
        "      \n",
        "   def live_cells(self, i, j):\n",
        "      # Counts number of live cells around point (i, j)\n",
        "      s = 0 # Live cell counter\n",
        "      for x in [i-1, i, i+1]:\n",
        "         for y in [j-1, j, j+1]:\n",
        "            if(x == i and y == j):\n",
        "               continue # Skip current cell\n",
        "            if(x != self.N and y != self.N):\n",
        "               s += self.old_grid[x][y]\n",
        "            # The remaining branches handle the case where the live cell is off the end of the grid.\n",
        "            # In this case, we loop back round such that the grid becomes a \"toroidal array\".\n",
        "            elif(x == self.N and y != self.N):\n",
        "               s += self.old_grid[0][y]\n",
        "            elif(x != self.N and y == self.N):\n",
        "               s += self.old_grid[x][0]\n",
        "            else:\n",
        "               s += self.old_grid[0][0]\n",
        "      return s\n",
        "\n",
        "   def play(self):\n",
        "      \n",
        "      # Save generation zero\n",
        "      pl.pcolormesh(self.old_grid)\n",
        "      pl.colorbar()\n",
        "      pl.savefig(\"generation0.png\")\n",
        "\n",
        "      t = 1 # Current generation\n",
        "      while t <= self.T:\n",
        "         if t%10==0:\n",
        "             # Only print update at tenth generations\n",
        "             print('Generation %d' % t)\n",
        "\n",
        "         # Apply Conway's rules\n",
        "         for i in range(self.N):\n",
        "            for j in range(self.N):\n",
        "               live = self.live_cells(i, j)\n",
        "               if(self.old_grid[i][j] == 1 and live < 2):\n",
        "                  self.new_grid[i][j] = 0 # Dead from starvation\n",
        "               elif(self.old_grid[i][j] == 1 and (live == 2 or live == 3)):\n",
        "                  self.new_grid[i][j] = 1 # Continue living\n",
        "               elif(self.old_grid[i][j] == 1 and live > 3):\n",
        "                  self.new_grid[i][j] = 0 # Dead from overcrowding\n",
        "               elif(self.old_grid[i][j] == 0 and live == 3):\n",
        "                  self.new_grid[i][j] = 1 # Alive from reproduction\n",
        "\n",
        "         # Output the new grid configuration\n",
        "         if(t % self.WF == 0):\n",
        "            pl.pcolormesh(self.new_grid)\n",
        "            pl.savefig('generation%d.png' % t)\n",
        "\n",
        "         # New grid is now old grid\n",
        "         self.old_grid = self.new_grid.copy()\n",
        "\n",
        "         # Move to next generation\n",
        "         t += 1\n",
        "\n",
        "if(__name__ == \"__main__\"):\n",
        "   game = GoL(N = 100, T = 200, WF = 5)\n",
        "   game.play()\n",
        "\n",
        "import glob\n",
        "from PIL import Image\n",
        "\n",
        "   # Create list of each .png file\n",
        "images = []\n",
        "for img in glob.glob(\"*.png\"):\n",
        "    images.append(Image.open(img)) \n",
        "\n",
        "# Save animated .gif\n",
        "images[0].save('GoL_movie.gif', save_all=True, append_images=images[0:], duration=850, loop=0)\n",
        "\n",
        "# Type  ![title](GoL_movie.gif)  in markdown cell to view animated gif"
      ]
    }
  ]
}